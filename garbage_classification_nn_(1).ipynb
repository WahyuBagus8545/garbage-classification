{
  "metadata": {
    "colab": {
      "provenance": [],
      "gpuType": "T4",
      "include_colab_link": true
    },
    "kernelspec": {
      "name": "python3",
      "display_name": "Python 3",
      "language": "python"
    },
    "language_info": {
      "name": "python",
      "version": "3.10.13",
      "mimetype": "text/x-python",
      "codemirror_mode": {
        "name": "ipython",
        "version": 3
      },
      "pygments_lexer": "ipython3",
      "nbconvert_exporter": "python",
      "file_extension": ".py"
    },
    "accelerator": "GPU",
    "kaggle": {
      "accelerator": "gpu",
      "dataSources": [
        {
          "sourceId": 1874598,
          "sourceType": "datasetVersion",
          "datasetId": 1115942
        }
      ],
      "dockerImageVersionId": 30648,
      "isInternetEnabled": true,
      "language": "python",
      "sourceType": "notebook",
      "isGpuEnabled": true
    }
  },
  "nbformat_minor": 0,
  "nbformat": 4,
  "cells": [
    {
      "cell_type": "markdown",
      "metadata": {
        "id": "view-in-github",
        "colab_type": "text"
      },
      "source": [
        "<a href=\"https://colab.research.google.com/github/WahyuBagus8545/garbage-classification/blob/main/garbage_classification_nn_(1).ipynb\" target=\"_parent\"><img src=\"https://colab.research.google.com/assets/colab-badge.svg\" alt=\"Open In Colab\"/></a>"
      ]
    },
    {
      "cell_type": "markdown",
      "source": [
        "Mohammad Wahyu Bagus Dwi Satya\n",
        "\n",
        "bagus8545@gmail.com\n",
        "\n",
        "Sumber data : https://www.kaggle.com/datasets/mostafaabla/garbage-classification\n",
        "\n",
        "Note\n",
        "I run this on the kaggle notebook"
      ],
      "metadata": {
        "id": "FEATI2mwyHez"
      }
    },
    {
      "cell_type": "code",
      "source": [
        "from google.colab import drive\n",
        "\n",
        "# Mount Google Drive\n",
        "drive.mount('/content/drive')\n",
        "\n",
        "!mkdir /content/drive/MyDrive/APIToken\n",
        "!cp kaggle.json /content/drive/MyDrive/APIToken/"
      ],
      "metadata": {
        "id": "yS8AiLryuvYM",
        "execution": {
          "iopub.status.busy": "2024-02-06T03:27:14.016429Z",
          "iopub.execute_input": "2024-02-06T03:27:14.016717Z",
          "iopub.status.idle": "2024-02-06T03:27:14.290350Z",
          "shell.execute_reply.started": "2024-02-06T03:27:14.016694Z",
          "shell.execute_reply": "2024-02-06T03:27:14.289149Z"
        },
        "trusted": true
      },
      "execution_count": null,
      "outputs": []
    },
    {
      "cell_type": "code",
      "source": [
        "!mkdir -p ~/.kaggle\n",
        "!cp /content/drive/MyDrive/APIToken/kaggle.json ~/.kaggle/\n",
        "!chmod 600 /root/.kaggle/kaggle.json"
      ],
      "metadata": {
        "id": "-y2MeoKAvNUF"
      },
      "execution_count": null,
      "outputs": []
    },
    {
      "cell_type": "code",
      "source": [
        "!kaggle datasets download -d mostafaabla/garbage-classification"
      ],
      "metadata": {
        "id": "cVHj7STzvQLh"
      },
      "execution_count": null,
      "outputs": []
    },
    {
      "cell_type": "code",
      "source": [
        "download_path = \"/content/garbage-classification.zip\"\n",
        "extract_path = \"/content/garbage-classification\"\n",
        "!unzip -q {download_path} -d {extract_path}"
      ],
      "metadata": {
        "id": "i9bzJ70qv2Xj"
      },
      "execution_count": null,
      "outputs": []
    },
    {
      "cell_type": "code",
      "source": [
        "base_dir = '/kaggle/input/garbage-classification/garbage_classification'"
      ],
      "metadata": {
        "id": "iqJSY3VZyll-",
        "execution": {
          "iopub.status.busy": "2024-02-07T15:07:20.812636Z",
          "iopub.execute_input": "2024-02-07T15:07:20.813259Z",
          "iopub.status.idle": "2024-02-07T15:07:20.824407Z",
          "shell.execute_reply.started": "2024-02-07T15:07:20.813227Z",
          "shell.execute_reply": "2024-02-07T15:07:20.823372Z"
        },
        "trusted": true
      },
      "execution_count": null,
      "outputs": []
    },
    {
      "cell_type": "code",
      "source": [
        "from PIL import Image\n",
        "import os\n",
        "\n",
        "# Function to read image files in a directory and its subdirectories\n",
        "def read_files(startpath):\n",
        "    image_files = []\n",
        "    for dirname, dirnames, filenames in os.walk(startpath):\n",
        "        for filename in filenames:\n",
        "            image_files.append(os.path.join(dirname, filename))\n",
        "    return image_files\n",
        "\n",
        "# Retrieve all image file paths\n",
        "full_dirs = read_files(base_dir)\n",
        "\n",
        "# Lists to store image sizes and count of image files\n",
        "image_sizes = []\n",
        "num_image_files = 0\n",
        "\n",
        "# Iterate through each image file\n",
        "for file in full_dirs:\n",
        "    # Open image using PIL\n",
        "    try:\n",
        "        image = Image.open(file)\n",
        "        width, height = image.size\n",
        "        image_sizes.append(f'{width}x{height}')\n",
        "        num_image_files += 1\n",
        "    except Exception as e:\n",
        "        print(f\"Error processing {file}: {e}\")\n",
        "\n",
        "# Get unique image sizes\n",
        "unique_sizes = set(image_sizes)\n",
        "\n",
        "# Print results\n",
        "print(f'Total number of image files: {num_image_files}')\n",
        "print(f'Total number of unique image sizes: {len(unique_sizes)}')\n",
        "print(f'First 5 unique image sizes: \\n{list(unique_sizes)[:5]}')from PIL import Image\n",
        "import os\n",
        "\n",
        "# Function to read image files in a directory and its subdirectories\n",
        "def read_files(startpath):\n",
        "    image_files = []\n",
        "    for dirname, dirnames, filenames in os.walk(startpath):\n",
        "        for filename in filenames:\n",
        "            image_files.append(os.path.join(dirname, filename))\n",
        "    return image_files\n",
        "\n",
        "# Retrieve all image file paths\n",
        "full_dirs = read_files(base_dir)\n",
        "\n",
        "# Lists to store image sizes and count of image files\n",
        "image_sizes = []\n",
        "num_image_files = 0\n",
        "\n",
        "# Iterate through each image file\n",
        "for file in full_dirs:\n",
        "    # Open image using PIL\n",
        "    try:\n",
        "        image = Image.open(file)\n",
        "        width, height = image.size\n",
        "        image_sizes.append(f'{width}x{height}')\n",
        "        num_image_files += 1\n",
        "    except Exception as e:\n",
        "        print(f\"Error processing {file}: {e}\")\n",
        "\n",
        "# Get unique image sizes\n",
        "unique_sizes = set(image_sizes)\n",
        "\n",
        "# Print results\n",
        "print(f'Total number of image files: {num_image_files}')\n",
        "print(f'Total number of unique image sizes: {len(unique_sizes)}')\n",
        "print(f'First 5 unique image sizes: \\n{list(unique_sizes)[:5]}')"
      ],
      "metadata": {
        "id": "2pNSXZLBy5XS",
        "outputId": "6bd327f9-3822-47ed-9d4f-36202ebc6a7d",
        "execution": {
          "iopub.status.busy": "2024-02-07T15:07:20.825937Z",
          "iopub.execute_input": "2024-02-07T15:07:20.826252Z",
          "iopub.status.idle": "2024-02-07T15:08:53.041452Z",
          "shell.execute_reply.started": "2024-02-07T15:07:20.826228Z",
          "shell.execute_reply": "2024-02-07T15:08:53.040528Z"
        },
        "trusted": true
      },
      "execution_count": null,
      "outputs": [
        {
          "name": "stdout",
          "text": "Total number of image files: 15515\nTotal number of unique image sizes: 892\nFirst 5 unique image sizes: \n['400x495', '200x133', '282x178', '174x289', '289x174']\n",
          "output_type": "stream"
        }
      ]
    },
    {
      "cell_type": "code",
      "source": [
        "import numpy as np\n",
        "from keras.preprocessing.image import img_to_array\n",
        "\n",
        "def custom_preprocess(input_data, target_size=(224, 224), convert_to_rgba=True):\n",
        "    if isinstance(input_data, str):  # Check if input is a file path\n",
        "        img = Image.open(input_data)\n",
        "    elif isinstance(input_data, np.ndarray):  # Check if input is a NumPy array\n",
        "        img = Image.fromarray((input_data * 255).astype(np.uint8))  # Convert to PIL Image\n",
        "    else:\n",
        "        raise ValueError(\"Unsupported input type. Must be either a file path or a NumPy array.\")\n",
        "\n",
        "    # Convert to RGBA format if specified\n",
        "    if convert_to_rgba and img.mode != 'RGBA':\n",
        "        img = img.convert('RGBA')\n",
        "\n",
        "    # Convert palette images with transparency to RGBA\n",
        "    if img.mode == 'P' and 'transparency' in img.info:\n",
        "        img = img.convert('RGBA')\n",
        "\n",
        "    # Resize the image with LANCZOS resampling (replacing ANTIALIAS)\n",
        "    img = img.resize(target_size, Image.LANCZOS)\n",
        "\n",
        "    # Convert back to RGB if needed\n",
        "    img = img.convert('RGB')\n",
        "\n",
        "    # Convert PIL Image to NumPy array\n",
        "    img_array = img_to_array(img)\n",
        "\n",
        "    return img_array"
      ],
      "metadata": {
        "id": "XYZ6Zod6a62Y",
        "execution": {
          "iopub.status.busy": "2024-02-07T15:08:53.042471Z",
          "iopub.execute_input": "2024-02-07T15:08:53.042727Z",
          "iopub.status.idle": "2024-02-07T15:09:05.845628Z",
          "shell.execute_reply.started": "2024-02-07T15:08:53.042705Z",
          "shell.execute_reply": "2024-02-07T15:09:05.844786Z"
        },
        "trusted": true,
        "outputId": "b0409a28-3146-43ad-bdb1-3ff0d3239e06"
      },
      "execution_count": null,
      "outputs": [
        {
          "name": "stderr",
          "text": "2024-02-07 15:08:54.976353: E external/local_xla/xla/stream_executor/cuda/cuda_dnn.cc:9261] Unable to register cuDNN factory: Attempting to register factory for plugin cuDNN when one has already been registered\n2024-02-07 15:08:54.976454: E external/local_xla/xla/stream_executor/cuda/cuda_fft.cc:607] Unable to register cuFFT factory: Attempting to register factory for plugin cuFFT when one has already been registered\n2024-02-07 15:08:55.121479: E external/local_xla/xla/stream_executor/cuda/cuda_blas.cc:1515] Unable to register cuBLAS factory: Attempting to register factory for plugin cuBLAS when one has already been registered\n",
          "output_type": "stream"
        }
      ]
    },
    {
      "cell_type": "code",
      "source": [
        "import tensorflow as tf\n",
        "from keras.preprocessing.image import ImageDataGenerator\n",
        "\n",
        "IDG = ImageDataGenerator(\n",
        "    rescale=1./255,\n",
        "    validation_split=0.2\n",
        "    #preprocessing_function=lambda x: custom_preprocess(x, target_size=(227, 227), convert_to_rgba=True)\n",
        ")"
      ],
      "metadata": {
        "id": "c3nsj654-u8C",
        "execution": {
          "iopub.status.busy": "2024-02-07T15:09:05.847915Z",
          "iopub.execute_input": "2024-02-07T15:09:05.848621Z",
          "iopub.status.idle": "2024-02-07T15:09:05.853224Z",
          "shell.execute_reply.started": "2024-02-07T15:09:05.848585Z",
          "shell.execute_reply": "2024-02-07T15:09:05.852370Z"
        },
        "trusted": true
      },
      "execution_count": null,
      "outputs": []
    },
    {
      "cell_type": "code",
      "source": [
        "training_generator = IDG.flow_from_directory(\n",
        "  base_dir,\n",
        "  shuffle=True,\n",
        "  subset='training',\n",
        "  target_size=(224,224),\n",
        "  class_mode='categorical'\n",
        ")\n",
        "\n",
        "validation_generator = IDG.flow_from_directory(\n",
        "  base_dir,\n",
        "  subset='validation',shuffle=False,\n",
        "  target_size=(224,224),\n",
        "  class_mode='categorical'\n",
        ")"
      ],
      "metadata": {
        "id": "HmwtBzM-WC0v",
        "outputId": "32875765-3bdd-4210-84e5-e4e4621c34ef",
        "execution": {
          "iopub.status.busy": "2024-02-07T15:09:05.854395Z",
          "iopub.execute_input": "2024-02-07T15:09:05.855004Z",
          "iopub.status.idle": "2024-02-07T15:09:08.580083Z",
          "shell.execute_reply.started": "2024-02-07T15:09:05.854978Z",
          "shell.execute_reply": "2024-02-07T15:09:08.579358Z"
        },
        "trusted": true
      },
      "execution_count": null,
      "outputs": [
        {
          "name": "stdout",
          "text": "Found 12415 images belonging to 12 classes.\nFound 3100 images belonging to 12 classes.\n",
          "output_type": "stream"
        }
      ]
    },
    {
      "cell_type": "code",
      "source": [
        "from tensorflow.keras.applications import ResNet50V2\n",
        "from tensorflow.keras.layers import Input\n",
        "\n",
        "pre_trained_model =ResNet50V2(weights=\"imagenet\", include_top=False,\n",
        "                                input_tensor=Input(shape=(224,224, 3)))\n",
        "\n",
        "for layer in pre_trained_model.layers:\n",
        "    layer.trainable = True"
      ],
      "metadata": {
        "execution": {
          "iopub.status.busy": "2024-02-07T15:09:08.581078Z",
          "iopub.execute_input": "2024-02-07T15:09:08.581372Z",
          "iopub.status.idle": "2024-02-07T15:09:11.929435Z",
          "shell.execute_reply.started": "2024-02-07T15:09:08.581337Z",
          "shell.execute_reply": "2024-02-07T15:09:11.928649Z"
        },
        "trusted": true,
        "id": "3kSExKv1yHfl",
        "outputId": "92ef03b4-2bb1-4b0e-a00b-2012eb3893a6"
      },
      "execution_count": null,
      "outputs": [
        {
          "name": "stdout",
          "text": "Downloading data from https://storage.googleapis.com/tensorflow/keras-applications/resnet/resnet50v2_weights_tf_dim_ordering_tf_kernels_notop.h5\n94668760/94668760 [==============================] - 1s 0us/step\n",
          "output_type": "stream"
        }
      ]
    },
    {
      "cell_type": "code",
      "source": [
        "from keras.layers import Conv2D, MaxPool2D, Flatten, Dense, Dropout, BatchNormalization\n",
        "from keras.models import Sequential\n",
        "from keras import regularizers\n",
        "from tensorflow.keras.models import Sequential\n",
        "from tensorflow.keras.layers import Conv2D, MaxPooling2D, Dropout, Flatten, Dense, BatchNormalization\n",
        "\n",
        "num_classes=12\n",
        "\n",
        "model = Sequential([\n",
        "    pre_trained_model,\n",
        "    Conv2D(filters=32, kernel_size=(3, 3), activation='relu', padding='same'),\n",
        "    MaxPooling2D(pool_size=(2, 2)),\n",
        "    Flatten(),\n",
        "    Dense(512, activation='relu', kernel_regularizer=regularizers.l2(0.01)),\n",
        "    Dropout(0.1),\n",
        "    Dense(num_classes, activation='softmax')\n",
        "])\n",
        "\n",
        "\n",
        "model.summary()"
      ],
      "metadata": {
        "id": "wn8_0ddyYD22",
        "outputId": "c25b8034-045c-4285-c9e1-87bc052ee664",
        "execution": {
          "iopub.status.busy": "2024-02-07T15:09:11.930546Z",
          "iopub.execute_input": "2024-02-07T15:09:11.930836Z",
          "iopub.status.idle": "2024-02-07T15:09:12.660494Z",
          "shell.execute_reply.started": "2024-02-07T15:09:11.930811Z",
          "shell.execute_reply": "2024-02-07T15:09:12.659590Z"
        },
        "trusted": true
      },
      "execution_count": null,
      "outputs": [
        {
          "name": "stdout",
          "text": "Model: \"sequential\"\n_________________________________________________________________\n Layer (type)                Output Shape              Param #   \n=================================================================\n resnet50v2 (Functional)     (None, 7, 7, 2048)        23564800  \n                                                                 \n conv2d (Conv2D)             (None, 7, 7, 32)          589856    \n                                                                 \n max_pooling2d_3 (MaxPoolin  (None, 3, 3, 32)          0         \n g2D)                                                            \n                                                                 \n flatten (Flatten)           (None, 288)               0         \n                                                                 \n dense (Dense)               (None, 512)               147968    \n                                                                 \n dropout (Dropout)           (None, 512)               0         \n                                                                 \n dense_1 (Dense)             (None, 12)                6156      \n                                                                 \n=================================================================\nTotal params: 24308780 (92.73 MB)\nTrainable params: 24263340 (92.56 MB)\nNon-trainable params: 45440 (177.50 KB)\n_________________________________________________________________\n",
          "output_type": "stream"
        }
      ]
    },
    {
      "cell_type": "code",
      "source": [
        "from keras.optimizers import Adam\n",
        "\n",
        "optimizer = Adam(learning_rate=0.0001)\n",
        "model.compile(optimizer=optimizer, loss=\"categorical_crossentropy\", metrics=[\"accuracy\"])"
      ],
      "metadata": {
        "id": "ShdJxjVrZZ0J",
        "execution": {
          "iopub.status.busy": "2024-02-07T15:09:12.661689Z",
          "iopub.execute_input": "2024-02-07T15:09:12.661977Z",
          "iopub.status.idle": "2024-02-07T15:09:12.682300Z",
          "shell.execute_reply.started": "2024-02-07T15:09:12.661953Z",
          "shell.execute_reply": "2024-02-07T15:09:12.681612Z"
        },
        "trusted": true
      },
      "execution_count": null,
      "outputs": []
    },
    {
      "cell_type": "code",
      "source": [
        "class AccuracyStopCallback(tf.keras.callbacks.Callback):\n",
        "    def on_epoch_end(self, epoch, logs=None):\n",
        "        target_accuracy = 0.92\n",
        "\n",
        "        current_accuracy = logs.get('accuracy')\n",
        "        current_val_accuracy = logs.get('val_accuracy')  # Corrected key\n",
        "\n",
        "        if current_accuracy is not None and current_val_accuracy is not None:\n",
        "            if current_accuracy >= target_accuracy and current_val_accuracy >= target_accuracy:\n",
        "                print('\\nAccuracy reached 92% on both training and validation sets.')\n",
        "                self.model.stop_training = True\n",
        "stop_callback = AccuracyStopCallback()"
      ],
      "metadata": {
        "id": "tDIaQuS2ZmTX",
        "execution": {
          "iopub.status.busy": "2024-02-07T15:09:12.684402Z",
          "iopub.execute_input": "2024-02-07T15:09:12.684670Z",
          "iopub.status.idle": "2024-02-07T15:09:12.690203Z",
          "shell.execute_reply.started": "2024-02-07T15:09:12.684646Z",
          "shell.execute_reply": "2024-02-07T15:09:12.689342Z"
        },
        "trusted": true
      },
      "execution_count": null,
      "outputs": []
    },
    {
      "cell_type": "code",
      "source": [
        "history = model.fit(\n",
        "    training_generator,\n",
        "    epochs=200,\n",
        "    validation_data=validation_generator,\n",
        "    verbose=1,\n",
        "    shuffle=True,\n",
        "    callbacks=[stop_callback]\n",
        ")"
      ],
      "metadata": {
        "id": "UpQ8TI2JZ0hq",
        "outputId": "94d8639c-4348-4dcd-8ac1-162b04147148",
        "execution": {
          "iopub.status.busy": "2024-02-07T15:09:12.691461Z",
          "iopub.execute_input": "2024-02-07T15:09:12.691779Z",
          "iopub.status.idle": "2024-02-07T15:36:46.111367Z",
          "shell.execute_reply.started": "2024-02-07T15:09:12.691748Z",
          "shell.execute_reply": "2024-02-07T15:36:46.110461Z"
        },
        "trusted": true
      },
      "execution_count": null,
      "outputs": [
        {
          "name": "stdout",
          "text": "Epoch 1/200\n",
          "output_type": "stream"
        },
        {
          "name": "stderr",
          "text": "WARNING: All log messages before absl::InitializeLog() is called are written to STDERR\nI0000 00:00:1707318570.169526     146 device_compiler.h:186] Compiled cluster using XLA!  This line is logged at most once for the lifetime of the process.\n",
          "output_type": "stream"
        },
        {
          "name": "stdout",
          "text": "388/388 [==============================] - 115s 210ms/step - loss: 3.8843 - accuracy: 0.8194 - val_loss: 3.2595 - val_accuracy: 0.8823\nEpoch 2/200\n388/388 [==============================] - 75s 193ms/step - loss: 2.6246 - accuracy: 0.9510 - val_loss: 2.4607 - val_accuracy: 0.8861\nEpoch 3/200\n388/388 [==============================] - 74s 191ms/step - loss: 1.8773 - accuracy: 0.9758 - val_loss: 1.8377 - val_accuracy: 0.9084\nEpoch 4/200\n388/388 [==============================] - 74s 191ms/step - loss: 1.3779 - accuracy: 0.9791 - val_loss: 1.4897 - val_accuracy: 0.9052\nEpoch 5/200\n388/388 [==============================] - 74s 191ms/step - loss: 1.0063 - accuracy: 0.9828 - val_loss: 1.2949 - val_accuracy: 0.8794\nEpoch 6/200\n388/388 [==============================] - 75s 192ms/step - loss: 0.7624 - accuracy: 0.9811 - val_loss: 0.8912 - val_accuracy: 0.9177\nEpoch 7/200\n388/388 [==============================] - 75s 192ms/step - loss: 0.5667 - accuracy: 0.9849 - val_loss: 0.8092 - val_accuracy: 0.9087\nEpoch 8/200\n388/388 [==============================] - 74s 189ms/step - loss: 0.4376 - accuracy: 0.9842 - val_loss: 0.6881 - val_accuracy: 0.9129\nEpoch 9/200\n388/388 [==============================] - 74s 190ms/step - loss: 0.3297 - accuracy: 0.9888 - val_loss: 0.6046 - val_accuracy: 0.9097\nEpoch 10/200\n388/388 [==============================] - 73s 188ms/step - loss: 0.2664 - accuracy: 0.9877 - val_loss: 0.5608 - val_accuracy: 0.9139\nEpoch 11/200\n388/388 [==============================] - 73s 187ms/step - loss: 0.2101 - accuracy: 0.9877 - val_loss: 0.7373 - val_accuracy: 0.8577\nEpoch 12/200\n388/388 [==============================] - 72s 187ms/step - loss: 0.1748 - accuracy: 0.9888 - val_loss: 0.4800 - val_accuracy: 0.9094\nEpoch 13/200\n388/388 [==============================] - 73s 188ms/step - loss: 0.1556 - accuracy: 0.9871 - val_loss: 0.4636 - val_accuracy: 0.8984\nEpoch 14/200\n388/388 [==============================] - 73s 187ms/step - loss: 0.1336 - accuracy: 0.9853 - val_loss: 0.4435 - val_accuracy: 0.8984\nEpoch 15/200\n388/388 [==============================] - 73s 187ms/step - loss: 0.1041 - accuracy: 0.9903 - val_loss: 0.4604 - val_accuracy: 0.9010\nEpoch 16/200\n388/388 [==============================] - 72s 186ms/step - loss: 0.0912 - accuracy: 0.9890 - val_loss: 0.5392 - val_accuracy: 0.8835\nEpoch 17/200\n388/388 [==============================] - 72s 186ms/step - loss: 0.0712 - accuracy: 0.9929 - val_loss: 0.4188 - val_accuracy: 0.9094\nEpoch 18/200\n388/388 [==============================] - 73s 188ms/step - loss: 0.0727 - accuracy: 0.9907 - val_loss: 0.4305 - val_accuracy: 0.9084\nEpoch 19/200\n388/388 [==============================] - 73s 188ms/step - loss: 0.0737 - accuracy: 0.9896 - val_loss: 0.5200 - val_accuracy: 0.8713\nEpoch 20/200\n388/388 [==============================] - 73s 187ms/step - loss: 0.0607 - accuracy: 0.9904 - val_loss: 0.4258 - val_accuracy: 0.9077\nEpoch 21/200\n388/388 [==============================] - 72s 186ms/step - loss: 0.0596 - accuracy: 0.9904 - val_loss: 0.4774 - val_accuracy: 0.8968\nEpoch 22/200\n388/388 [==============================] - ETA: 0s - loss: 0.0482 - accuracy: 0.9931\nAccuracy reached 92% on both training and validation sets.\n388/388 [==============================] - 72s 186ms/step - loss: 0.0482 - accuracy: 0.9931 - val_loss: 0.3672 - val_accuracy: 0.9210\n",
          "output_type": "stream"
        }
      ]
    },
    {
      "cell_type": "code",
      "source": [
        "import matplotlib.pyplot as plt\n",
        "\n",
        "# Plot akurasi dan loss model\n",
        "plt.plot(history.history['accuracy'], label='Training Accuracy')\n",
        "plt.plot(history.history['val_accuracy'], label='Validation Accuracy')\n",
        "plt.xlabel('Epoch')\n",
        "plt.ylabel('Accuracy')\n",
        "plt.legend()\n",
        "plt.show()\n",
        "\n",
        "plt.plot(history.history['loss'], label='Training Loss')\n",
        "plt.plot(history.history['val_loss'], label='Validation Loss')\n",
        "plt.xlabel('Epoch')\n",
        "plt.ylabel('Loss')\n",
        "plt.legend()\n",
        "plt.show()"
      ],
      "metadata": {
        "id": "ctuSoEdlZ0ny",
        "execution": {
          "iopub.status.busy": "2024-02-07T15:36:46.112384Z",
          "iopub.execute_input": "2024-02-07T15:36:46.112666Z",
          "iopub.status.idle": "2024-02-07T15:36:46.518182Z",
          "shell.execute_reply.started": "2024-02-07T15:36:46.112641Z",
          "shell.execute_reply": "2024-02-07T15:36:46.517301Z"
        },
        "trusted": true,
        "outputId": "98ff2389-c749-4b6c-cf75-639130f22589"
      },
      "execution_count": null,
      "outputs": [
        {
          "output_type": "display_data",
          "data": {
            "text/plain": "<Figure size 640x480 with 1 Axes>",
            "image/png": "[encoded data removed]"
          },
          "metadata": {}
        },
        {
          "output_type": "display_data",
          "data": {
            "text/plain": "<Figure size 640x480 with 1 Axes>",
            "image/png": "[encoded data removed]"
          },
          "metadata": {}
        }
      ]
    },
    {
      "cell_type": "code",
      "source": [
        "# Menyimpan model ke dalam format TF-Lite\n",
        "model.save('content/model.h5')\n",
        "converter = tf.lite.TFLiteConverter.from_keras_model(model)\n",
        "tflite_model = converter.convert()\n",
        "with open('content/model.tflite', 'wb') as f:\n",
        "    f.write(tflite_model)\n"
      ],
      "metadata": {
        "execution": {
          "iopub.status.busy": "2024-02-07T15:36:46.519196Z",
          "iopub.execute_input": "2024-02-07T15:36:46.519488Z",
          "iopub.status.idle": "2024-02-07T15:37:26.808321Z",
          "shell.execute_reply.started": "2024-02-07T15:36:46.519462Z",
          "shell.execute_reply": "2024-02-07T15:37:26.807289Z"
        },
        "trusted": true,
        "id": "S1aUvVC4yHfz",
        "outputId": "936aee1b-acf1-4db1-97b0-ae3a7e9c26b5"
      },
      "execution_count": null,
      "outputs": [
        {
          "name": "stderr",
          "text": "/opt/conda/lib/python3.10/site-packages/keras/src/engine/training.py:3103: UserWarning: You are saving your model as an HDF5 file via `model.save()`. This file format is considered legacy. We recommend using instead the native Keras format, e.g. `model.save('my_model.keras')`.\n  saving_api.save_model(\nSummary on the non-converted ops:\n---------------------------------\n * Accepted dialects: tfl, builtin, func\n * Non-Converted Ops: 149, Total Ops 283, % non-converted = 52.65 %\n * 149 ARITH ops\n\n- arith.constant:  149 occurrences  (f32: 146, i32: 3)\n\n\n\n  (f32: 33)\n  (f32: 54)\n  (f32: 2)\n  (f32: 5)\n  (f32: 17)\n  (f32: 18)\n  (f32: 1)\n  (f32: 1)\n",
          "output_type": "stream"
        }
      ]
    }
  ]
}